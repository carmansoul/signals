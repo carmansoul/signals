{
 "cells": [
  {
   "cell_type": "code",
   "execution_count": 2,
   "id": "5a223605",
   "metadata": {},
   "outputs": [
    {
     "data": {
      "image/png": "[encoded data removed]",
      "text/plain": [
       "<Figure size 640x480 with 1 Axes>"
      ]
     },
     "metadata": {},
     "output_type": "display_data"
    }
   ],
   "source": [
    "### Euler-Maruyama generation of Brownian motion\n",
    "import numpy as np\n",
    "import matplotlib.pyplot as plt\n",
    "\n",
    "# Euler-Maruyama parameters\n",
    "T = 1.0\n",
    "N = 1000\n",
    "dt = T/N\n",
    "\n",
    "# Brownian motion simulation using Euler-Maruyama\n",
    "W = np.zeros(N)\n",
    "for i in range(1, N):\n",
    "    W[i] = W[i-1] + np.sqrt(dt) * np.random.normal()\n",
    "\n",
    "# Fourier Transform of the simulated process\n",
    "W_fft = np.fft.fft(W)\n",
    "\n",
    "# Plotting the real part of the Fourier Transform\n",
    "freq = np.fft.fftfreq(N, dt)\n",
    "plt.plot(freq, np.real(W_fft))\n",
    "plt.title('Spectral Representation of Simulated Brownian Motion')\n",
    "plt.xlabel('Frequency')\n",
    "plt.ylabel('Amplitude')\n",
    "plt.show()"
   ]
  },
  {
   "cell_type": "code",
   "execution_count": 7,
   "id": "a0b2865d",
   "metadata": {},
   "outputs": [
    {
     "data": {
      "application/vnd.jupyter.widget-view+json": {
       "model_id": "0778fe813a5542b695ff04b7a9e67a94",
       "version_major": 2,
       "version_minor": 0
      },
      "text/plain": [
       "interactive(children=(FloatSlider(value=5.0, description='Signal Frequency (Hz)', max=50.0, min=1.0, step=1.0)…"
      ]
     },
     "metadata": {},
     "output_type": "display_data"
    },
    {
     "data": {
      "text/plain": [
       "<function __main__.plot_signal_frequency(signal_freq, sampling_rate)>"
      ]
     },
     "execution_count": 7,
     "metadata": {},
     "output_type": "execute_result"
    }
   ],
   "source": [
    "import numpy as np\n",
    "import matplotlib.pyplot as plt\n",
    "from ipywidgets import interact, FloatSlider\n",
    "from numpy.fft import fft, fftfreq\n",
    "\n",
    "# Function to generate and sample the signal, and plot the frequency spectrum\n",
    "def plot_signal_frequency(signal_freq, sampling_rate):\n",
    "    '''This code generates a plot widget of a signal and noise frequency.'''\n",
    "        \n",
    "    # Time domain parameters\n",
    "    t_max = 1  # Duration in seconds\n",
    "    t = np.linspace(0, t_max, int(sampling_rate * t_max), endpoint=False)\n",
    "    \n",
    "    # Euler-Maruyama parameters\n",
    "    dt = t_max/len(t)\n",
    "\n",
    "    # Brownian motion simulation using Euler-Maruyama\n",
    "    W = np.zeros(len(t))\n",
    "    for i in range(1, len(t)):\n",
    "        W[i] = W[i-1] + np.sqrt(dt) * np.random.normal()\n",
    "\n",
    "    # Generating a sine wave signal\n",
    "    signal = np.sin(2 * np.pi * signal_freq * t)\n",
    "    # Sine and Noise\n",
    "    signal_noise = signal + W\n",
    "\n",
    "    # Compute the Fourier Transform and the frequency bins\n",
    "    signal_fft = fft(signal_noise)\n",
    "    freq = fftfreq(t.size, d=1/sampling_rate)\n",
    "\n",
    "    # Plotting\n",
    "    plt.figure(figsize=(12, 6))\n",
    "\n",
    "    # Plotting the magnitude of the frequency components\n",
    "    plt.plot(freq, np.abs(signal_fft))\n",
    "    plt.title(f\"Frequency Spectrum (Signal Frequency: {signal_freq} Hz, Sampling Rate: {sampling_rate} Hz)\")\n",
    "    plt.xlabel(\"Frequency (Hz)\")\n",
    "    plt.ylabel(\"Magnitude\")\n",
    "    plt.xlim(0, max(signal_freq * 2, sampling_rate / 2))  # Limiting x-axis to relevant range\n",
    "    plt.grid(True)\n",
    "    plt.show()\n",
    "\n",
    "# Interactive widget\n",
    "interact(plot_signal_frequency,\n",
    "         signal_freq=FloatSlider(value=5, min=1, max=50, step=1, description='Signal Frequency (Hz)'),\n",
    "         sampling_rate=FloatSlider(value=40, min=10, max=100, step=1, description='Sampling Rate (Hz)'))\n"
   ]
  },
  {
   "cell_type": "code",
   "execution_count": 8,
   "id": "e26f833e",
   "metadata": {},
   "outputs": [
    {
     "data": {
      "application/vnd.jupyter.widget-view+json": {
       "model_id": "9c5e949d818d47658af9b6139a09f9f1",
       "version_major": 2,
       "version_minor": 0
      },
      "text/plain": [
       "interactive(children=(FloatSlider(value=5.0, description='Signal Frequency (Hz)', max=50.0, min=1.0, step=1.0)…"
      ]
     },
     "metadata": {},
     "output_type": "display_data"
    },
    {
     "data": {
      "text/plain": [
       "<function __main__.plot_signal_frequency_with_noise_limit(signal_freq, sampling_rate, noise_bandlimit)>"
      ]
     },
     "execution_count": 8,
     "metadata": {},
     "output_type": "execute_result"
    }
   ],
   "source": [
    "def plot_signal_frequency_with_noise_limit(signal_freq, sampling_rate, noise_bandlimit):\n",
    "    # Time domain parameters\n",
    "    t_max = 1  # Duration in seconds\n",
    "    t = np.linspace(0, t_max, int(sampling_rate * t_max), endpoint=False)\n",
    "    \n",
    "    # Generating a sine wave signal\n",
    "    signal = np.sin(2 * np.pi * signal_freq * t)\n",
    "\n",
    "    # Generating noise with a specified bandlimit\n",
    "    # Create noise in frequency domain and then convert it back to time domain\n",
    "    noise_freq_domain = np.random.normal(0, 1, len(t))\n",
    "    frequencies = fftfreq(len(t), d=1/sampling_rate)\n",
    "\n",
    "    # Apply bandlimit to noise in frequency domain\n",
    "    noise_freq_domain[np.abs(frequencies) > noise_bandlimit] = 0\n",
    "    noise_time_domain = np.fft.ifft(noise_freq_domain).real\n",
    "\n",
    "    # Sine and Bandlimited Noise\n",
    "    signal_noise = signal + noise_time_domain\n",
    "\n",
    "    # Compute the Fourier Transform and the frequency bins\n",
    "    signal_fft = fft(signal_noise)\n",
    "    freq = fftfreq(t.size, d=1/sampling_rate)\n",
    "\n",
    "    # Plotting\n",
    "    plt.figure(figsize=(12, 6))\n",
    "\n",
    "    # Plotting the magnitude of the frequency components\n",
    "    plt.plot(freq, np.abs(signal_fft))\n",
    "    plt.title(f\"Frequency Spectrum (Signal Frequency: {signal_freq} Hz, Sampling Rate: {sampling_rate} Hz, Noise Bandlimit: {noise_bandlimit} Hz)\")\n",
    "    plt.xlabel(\"Frequency (Hz)\")\n",
    "    plt.ylabel(\"Magnitude\")\n",
    "    plt.xlim(0, max(signal_freq * 2, sampling_rate / 2))  # Limiting x-axis to relevant range\n",
    "    plt.grid(True)\n",
    "    plt.show()\n",
    "\n",
    "# Interactive widget\n",
    "interact(plot_signal_frequency_with_noise_limit,\n",
    "         signal_freq=FloatSlider(value=5, min=1, max=50, step=1, description='Signal Frequency (Hz)'),\n",
    "         sampling_rate=FloatSlider(value=40, min=10, max=100, step=1, description='Sampling Rate (Hz)'),\n",
    "         noise_bandlimit=FloatSlider(value=30, min=10, max=100, step=1, description='Noise Bandlimit (Hz)'))\n"
   ]
  },
  {
   "cell_type": "markdown",
   "id": "033171be",
   "metadata": {},
   "source": [
    "For a stochastic process such as this, there is hardly a difference between noises with higher or lower bandwidth than the Nyquist limit.\n",
    "\n",
    "To consider high-dimensional noise, we should use Langevin Monte Carlo (LMC) with the Metropolis-Hastings adjustment.\n",
    "\n",
    "It seems an imminent necessity considering some high-dimensional noises projected onto a 1D mapping."
   ]
  },
  {
   "cell_type": "code",
   "execution_count": null,
   "id": "e4069f53",
   "metadata": {},
   "outputs": [],
   "source": []
  }
 ],
 "metadata": {
  "kernelspec": {
   "display_name": "Python 3 (ipykernel)",
   "language": "python",
   "name": "python3"
  },
  "language_info": {
   "codemirror_mode": {
    "name": "ipython",
    "version": 3
   },
   "file_extension": ".py",
   "mimetype": "text/x-python",
   "name": "python",
   "nbconvert_exporter": "python",
   "pygments_lexer": "ipython3",
   "version": "3.11.4"
  }
 },
 "nbformat": 4,
 "nbformat_minor": 5
}
