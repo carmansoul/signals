{
 "cells": [
  {
   "cell_type": "markdown",
   "id": "d5ee9bb6",
   "metadata": {},
   "source": [
    "Seek to obtain a filter interpolating convolution to fractional order. Start with loose definitions for applying fractional-order convolution by noting that the nature of multiplication in the spectrum gives the natural extension of exponentiation to interpolate from identity to convolution."
   ]
  },
  {
   "cell_type": "markdown",
   "id": "7fedf111",
   "metadata": {},
   "source": [
    "For $x,y,z \\in \\mathbb{R}, \\forall t \\in \\mathbb{R}$, let $z_{n,m}(t) := (x_n * y_m)(t)$, and let $\\mathcal{F}z_{n,m}=Z_{n,m} :\\approx X^n Y^m$ so that $Z_{0,m} = Y^m, z_{0,m} = y_m$, and $z_{1,1}(t)=(x*y)(t)$."
   ]
  },
  {
   "cell_type": "markdown",
   "id": "623343ab",
   "metadata": {},
   "source": [
    "The issue here in application is known as spectral flatness. Near identity, we recover a noisy signal with roughly the same spectrum as pure impulse: \\\n",
    "$\\mathscr{F}[\\xi(t)](\\omega) \\approx 1$\\\n",
    "$\\mathscr{F}[\\delta(t)](\\omega)=1$. \\\n",
    "Use some distribution theory to ameliorate this, assuming that the impulse response is bounded and compactly supported."
   ]
  },
  {
   "cell_type": "markdown",
   "id": "22e2e1a8",
   "metadata": {},
   "source": [
    "Let $ a(t) = x + i \\mathcal{H} x = x + i\\hat{x} $,  \n",
    "let $ b(t) = y + i \\mathcal{H} y = y + i\\hat{y} $,\n",
    "where $ \\mathcal{H} $ represents the Hilbert transform, and $\\hat{x}$ represents that of x, then:\\\n",
    "$|a(t)| = |x + \\hat{x}|$ and $|b(t)| = |y + \\hat{y}|$,\\\n",
    "where we take the modulus because of the sinusoid-cancelling property of the Hilbert transform;\\\n",
    "that is, a periodic representation $f(t)=\\frac{x(t)}{|a(t)|}$, on the support of $x(t)$, $\\hat{f}(t)$ is simply $f(t)$ rotated $\\frac{\\pi}{2}$ radians, so that $\\sqrt{f(t)^2+\\hat{f}(t)^2}=1$,\\\n",
    "$\\therefore x(t) = |a(t)|f(t)$ gives $|a(t)| = |2 x(t)|$."
   ]
  },
  {
   "cell_type": "markdown",
   "id": "7906efc8",
   "metadata": {},
   "source": [
    "Recognize that as $ X_n \\to 1 ,  |a_n(t)| \\to \\delta(t) $,  \n",
    "therefore $ |a_0(t)| = \\begin{cases} +\\infty, & \\text{when } t = 0 \\\\ 0, & \\text{for } t \\in \\mathbb{R} \\setminus \\{0\\} \\end{cases} $.\n",
    "We want to approach the delta distribution from the right via $ |a_n(t)| $ where $ E(|a_n|)=\\int_{-\\infty}^{\\infty} |a_n(t)|^2 \\, dt = E(a), \\forall n \\in \\mathbb{R}$."
   ]
  },
  {
   "cell_type": "markdown",
   "id": "ced1fe6c",
   "metadata": {},
   "source": [
    "A good bet is to update $ a_n $ such that $ \\int a_n(t) \\, dt \\to H(t) = \\begin{cases} 0, & \\text{for } t < 0 \\\\ 1, & \\text{for } t \\geq 0 \\end{cases} $ as $ n \\to 0 $.\n"
   ]
  },
  {
   "cell_type": "markdown",
   "id": "3bcf9f34",
   "metadata": {},
   "source": [
    "Continuing the exponential narrative, let $ \\int |a_n(t)| \\, dt :\\approx \\Phi^n(t) $ \\\n",
    "and take $ \\Phi^n $ where $ n \\in (0,1) $, such that when $ t > 0 $ and $ a_n = 0 $ (e.g., is outside support),\\\n",
    "$ \\Phi^n = \\epsilon $ for some $ \\epsilon > 0 $, then for $ n \\to 0 $, $ \\Phi^n \\to H $.\n"
   ]
  },
  {
   "cell_type": "markdown",
   "id": "df00da07",
   "metadata": {},
   "source": [
    "Since $ |a_n(t)| = \\frac{d}{dt} \\Phi^n = n \\Phi^{n-1} \\frac{d}{dt} \\Phi = |a(t)| n \\Phi^{n-1} $, we obtain the recursive relationship: \\\n",
    "$ |a_N(t)| = |a(t)| N \\int |a_{N-1}(t)| \\, dt, $ for $N \\in \\mathbb{N}$."
   ]
  },
  {
   "cell_type": "markdown",
   "id": "5d3ffda6",
   "metadata": {},
   "source": [
    "Let $\\phi_N(t)=|a_N(t)|$, then $\\phi_N(t)=N \\phi_1 \\int \\phi_{n-1}(\\tau) d\\tau $, then\\\n",
    "$\\phi_{N+1}=(N+1)\\phi_1(t) \\int_{0}^{t} \\phi_N(\\tau)d\\tau = N(N+1)\\phi_1 \\int_{0}^{t} \\phi_1(t) \\int_{0}^{t} \\phi_{n-1} d\\tau^2$, hence we can graduate to the following:\\\n",
    "$\\phi_{N+K}=\\Pi_{j=0}^{K}(N+j) \\phi_1 \\int_{0}^{t} \\phi_1(t) \\int_{0}^{t} \\phi_{n-1} d\\tau^K$, then let $N=0$ and $K=n$,\\\n",
    "$\\therefore\\phi_n=n \\phi_1 \\int \\phi_{n-1} dt = n(n-1)(n-2)...(n-k)\\phi_1 \\int_{0}^{t}\\phi_1 \\int_{0}^{t} \\phi_1 ... \\phi_1 \\int_{0}^{t} \\phi_{n-k} d\\tau^k$\\\n",
    "$=n! \\phi_1(t) \\int_{0}^{t}\\phi_1...\\phi_1 \\int_{0}^{t}\\phi_0(\\tau)d\\tau^n$."
   ]
  },
  {
   "cell_type": "markdown",
   "id": "3692a492",
   "metadata": {},
   "source": [
    "In order to generalize $n$ to fractional orders, we invoke the Riemann-Liouville fractional integral: \n",
    "$ \\frac{1}{\\Gamma(\\alpha)} \\int_{0}^{t} (t - \\tau)^{\\alpha - 1} f(\\tau) \\, d\\tau. $\\\n",
    "Recognize that $\\phi_n(t)=\\Gamma(n+1)\\phi_1(t) \\int_{0}^{t}\\phi_1...\\phi_1 \\int_{0}^{t} \\phi_0(\\tau)d\\tau^n$,\\\n",
    "then for $n \\in \\mathbb{R} \\setminus {0}$, we recover the following:\\\n",
    "$\\phi_n(t)= \\phi_1(t) \\frac{\\Gamma(n+1)}{\\Gamma(n)} \\int_{0}^{t} (t-\\tau)^{n-1} \\phi_0(\\tau)d\\tau^n$."
   ]
  },
  {
   "cell_type": "markdown",
   "id": "191d1eaa",
   "metadata": {},
   "source": [
    "$\\forall\\alpha \\in \\mathbb{C}$, such that $\\Re(\\alpha)>0,$ $\\frac{\\Gamma(\\alpha+1)}{\\Gamma(\\alpha)}=\\alpha$, \\\n",
    "$\\therefore\\phi_n(t)= \\phi_1(t) n \\int_{0}^{t} (t-\\tau)^{n-1} \\phi_0(\\tau)d\\tau^n$\\\n",
    "$\\approx \\phi_1(t) n \\int_{0}^{t} (t-\\tau)^{n-1} \\delta(\\tau)d\\tau^n=n\\phi_n(t) t^{n-1} = |a(t)|nt^{n-1} :\\approx |a_n(t)|$."
   ]
  },
  {
   "cell_type": "markdown",
   "id": "1f2b7fb3",
   "metadata": {},
   "source": [
    "Now to consider the condition that signal energy is preserved,\n",
    "$E(|a_n|)=E(|a(t)|nt^{n-1})=\\int_{-\\infty}^{\\infty} |a|^2|n^2 t^{n-1}|^2 dt = \\int_{0}^{\\infty} |a|^2 n^2 t^{2n-2} dt$, by time-causality.\\\n",
    "Then, $E(|a_n|)=\\int_{0}^{\\infty} |x+i\\hat{x}|^2 (n t^{n-1})^2 dt=\\int_{0}^{\\infty} (|x|^2 t^{2n-2}+|\\hat{x}|^2 (nt^{n-1})^2 dt =\\int_{0}^{\\infty} 2|x|^2 (n t^{n-1})^2 dt = E(nt^{n-1} x) $\n",
    "\n",
    "In practice, we can normalize: $|a_n(t)| :\\approx \\frac{|a(t)|nt^{n-1}}{E(t^{n-1} x)} $, where an important computational note is that the lower bound of integration can be set to 0."
   ]
  },
  {
   "cell_type": "markdown",
   "id": "8e3f5de9",
   "metadata": {},
   "source": [
    "###from here, we're gonna try to align our instantaneous frequency $\\frac{d}{dt}\\psi(t)$. I would think we can brute force negativity from the amplitude by considering square wave shifts in the frequency itself."
   ]
  },
  {
   "cell_type": "markdown",
   "id": "67099b98",
   "metadata": {},
   "source": [
    "One might ask how $n$ affects composition of convolution. For that, turn to convolutional rooting.\n",
    "For $x(t)=(f*g)(t)$, obtain $x_{n/q}=(f*g)_{n/q}$.\\\n",
    "Recognize that $x_{n/q}$ is then $((f*g)_n)_{1/q}=((f*g)_n)_r$ for some $n,q,r \\in \\mathbb{R}$."
   ]
  },
  {
   "cell_type": "markdown",
   "id": "cbf97a92",
   "metadata": {},
   "source": [
    "Answer: Do we obtain the same result for $((f*g)_n)_r$ as $((f*g)_r)_n$ (we prefer to)? How about for $(f_r*g)$ as $(f*g_r)$? (No.)\\\n",
    "\\\n",
    "For drum applications, we should consider time-frequency interpolations using the fractionalization of convolution."
   ]
  },
  {
   "cell_type": "markdown",
   "id": "8ed57e43",
   "metadata": {},
   "source": [
    "Remember that for $t$ outside $supp|a(t)|$, this setup gives an ill-posed inverse problem in finding $s_x(t)$, which is why we defined our $\\Phi^n$ to be as small as necessary to ignore those values. Still, we have $s_x(t)$ to find. This gives an interesting signal processing problem. We already know what our signal amplitude will be for a signal with time-dependent frequency, but how does this apply to linear and even nonlinear functions that might be represented by Fourier series?\n",
    "\n",
    "Well, with the justification of the $a_n$ sequence under fractional calculus, we can consider some types of nonlinearity or nonstationarity that would not be so under the relevant transform, meaning that we can use this as a kernel for time series data."
   ]
  },
  {
   "cell_type": "markdown",
   "id": "622bec29",
   "metadata": {},
   "source": [
    "A necessary next step is to consider every frequency individually, find their amplitudes, then find correlations in those amplitudes beyond those inspired by the frequency filter. (E.g. we expect there to be some correlation between nearby frequencies and those in an overtone series. We should also invoke properties of convolution, using the membrane and boundary continuum mechanics.) Remember that the energy of an analytic signal is twice the energy of the real-valued component. Invoke Karhunen-Loeve theorem and consider using likelihood ratio testing to determine whether frequencies are signal or noise."
   ]
  },
  {
   "cell_type": "markdown",
   "id": "934ede70",
   "metadata": {},
   "source": [
    "In the future, we'll consider stochastic processes of this nature, and even investigate the fractional Fourier transforms with the kernel derived."
   ]
  },
  {
   "cell_type": "markdown",
   "id": "33e0cab2",
   "metadata": {},
   "source": [
    "Legend:\\\n",
    "\"$\\approx$\" - some computations, especially of transformations, would have mistake equivalence.\\\n",
    "\"$:\\approx$\" - formative as an update of a quality for a later definition."
   ]
  }
 ],
 "metadata": {
  "kernelspec": {
   "display_name": "Python 3 (ipykernel)",
   "language": "python",
   "name": "python3"
  },
  "language_info": {
   "codemirror_mode": {
    "name": "ipython",
    "version": 3
   },
   "file_extension": ".py",
   "mimetype": "text/x-python",
   "name": "python",
   "nbconvert_exporter": "python",
   "pygments_lexer": "ipython3",
   "version": "3.11.4"
  }
 },
 "nbformat": 4,
 "nbformat_minor": 5
}
