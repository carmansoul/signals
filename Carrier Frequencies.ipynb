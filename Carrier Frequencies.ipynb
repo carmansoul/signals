{
 "cells": [
  {
   "cell_type": "code",
   "execution_count": 4,
   "id": "1f408fe2",
   "metadata": {},
   "outputs": [
    {
     "data": {
      "application/vnd.jupyter.widget-view+json": {
       "model_id": "2ceac4b74a634842aa0e57023eba3418",
       "version_major": 2,
       "version_minor": 0
      },
      "text/plain": [
       "interactive(children=(FloatSlider(value=1.0, description='amplitude', max=5.0, min=0.1), FloatSlider(value=5.0…"
      ]
     },
     "metadata": {},
     "output_type": "display_data"
    },
    {
     "data": {
      "text/plain": [
       "<function __main__.plot_signal(amplitude=1.0, frequency=5.0)>"
      ]
     },
     "execution_count": 4,
     "metadata": {},
     "output_type": "execute_result"
    }
   ],
   "source": [
    "import numpy as np\n",
    "import matplotlib.pyplot as plt\n",
    "from scipy.signal import hilbert\n",
    "from ipywidgets import interact, FloatSlider\n",
    "\n",
    "# Function to create a carrier signal\n",
    "def carrier_signal(amplitude=1.0, frequency=5.0, time=1.0, sample_rate=1000):\n",
    "    t = np.linspace(0, time, int(sample_rate * time))\n",
    "    signal = amplitude * np.sin(2 * np.pi * frequency * t)\n",
    "    return t, signal\n",
    "\n",
    "# Function to calculate amplitude and instantaneous frequency\n",
    "def analyze_signal(t, signal, sample_rate):\n",
    "    analytic_signal = hilbert(signal)\n",
    "    amplitude_envelope = np.abs(analytic_signal)\n",
    "    instantaneous_phase = np.unwrap(np.angle(analytic_signal))\n",
    "    instantaneous_frequency = np.diff(instantaneous_phase) / (2.0*np.pi) * sample_rate\n",
    "    return amplitude_envelope, instantaneous_frequency\n",
    "\n",
    "# Interactive plot\n",
    "def plot_signal(amplitude=1.0, frequency=5.0):\n",
    "    sample_rate = 1000  # Define sample rate here\n",
    "    t, signal = carrier_signal(amplitude, frequency, sample_rate=sample_rate)\n",
    "    amplitude_envelope, instantaneous_frequency = analyze_signal(t, signal, sample_rate)\n",
    "\n",
    "    plt.figure(figsize=(12, 6))\n",
    "\n",
    "    plt.subplot(2, 1, 1)\n",
    "    plt.plot(t, signal, label='Carrier Signal')\n",
    "    plt.plot(t, amplitude_envelope, label='Amplitude Envelope', linestyle='--')\n",
    "    plt.title('Carrier Signal and Amplitude Envelope')\n",
    "    plt.xlabel('Time (s)')\n",
    "    plt.ylabel('Amplitude')\n",
    "    plt.grid(True)\n",
    "    plt.legend()\n",
    "\n",
    "    plt.subplot(2, 1, 2)\n",
    "    plt.plot(t[:-1], instantaneous_frequency)\n",
    "    plt.title('Instantaneous Frequency')\n",
    "    plt.xlabel('Time (s)')\n",
    "    plt.ylabel('Frequency (Hz)')\n",
    "    plt.grid(True)\n",
    "\n",
    "    plt.tight_layout()\n",
    "    plt.show()\n",
    "\n",
    "# Interactive widget\n",
    "interact(plot_signal, amplitude=FloatSlider(value=1.0, min=0.1, max=5.0, step=0.1),\n",
    "                     frequency=FloatSlider(value=5.0, min=1.0, max=10.0, step=0.1))\n"
   ]
  },
  {
   "cell_type": "code",
   "execution_count": 5,
   "id": "eafefe6f",
   "metadata": {},
   "outputs": [
    {
     "data": {
      "application/vnd.jupyter.widget-view+json": {
       "model_id": "9069437951004b97b8dd1afae274d02d",
       "version_major": 2,
       "version_minor": 0
      },
      "text/plain": [
       "interactive(children=(FloatSlider(value=1.0, description='carrier_amp', max=5.0, min=0.1), FloatSlider(value=5…"
      ]
     },
     "metadata": {},
     "output_type": "display_data"
    },
    {
     "data": {
      "text/plain": [
       "<function __main__.plot_am(carrier_amp=1.0, carrier_freq=5.0, modulating_freq=1.0, modulating_amp=0.5)>"
      ]
     },
     "execution_count": 5,
     "metadata": {},
     "output_type": "execute_result"
    }
   ],
   "source": [
    "import numpy as np\n",
    "import matplotlib.pyplot as plt\n",
    "from ipywidgets import interact, FloatSlider\n",
    "\n",
    "# Function to create a modulated carrier signal for AM\n",
    "def modulated_signal_am(carrier_amp, carrier_freq, modulating_freq, modulating_amp, sample_rate=1000, time=1.0):\n",
    "    t = np.linspace(0, time, int(sample_rate * time))\n",
    "    carrier = carrier_amp * np.sin(2 * np.pi * carrier_freq * t)\n",
    "    modulating = modulating_amp * np.sin(2 * np.pi * modulating_freq * t)\n",
    "    modulated = (1 + modulating) * carrier\n",
    "    return t, modulated, carrier, modulating\n",
    "\n",
    "# Interactive plot for AM\n",
    "def plot_am(carrier_amp=1.0, carrier_freq=5.0, modulating_freq=1.0, modulating_amp=0.5):\n",
    "    t, modulated, carrier, modulating = modulated_signal_am(carrier_amp, carrier_freq, modulating_freq, modulating_amp)\n",
    "\n",
    "    plt.figure(figsize=(12, 8))\n",
    "    plt.subplot(3, 1, 1)\n",
    "    plt.plot(t, carrier, label='Carrier Signal')\n",
    "    plt.title('Carrier Signal')\n",
    "    plt.xlabel('Time (s)')\n",
    "    plt.ylabel('Amplitude')\n",
    "    plt.grid(True)\n",
    "    plt.legend()\n",
    "\n",
    "    plt.subplot(3, 1, 2)\n",
    "    plt.plot(t, modulating, label='Modulating Signal')\n",
    "    plt.title('Modulating Signal')\n",
    "    plt.xlabel('Time (s)')\n",
    "    plt.ylabel('Amplitude')\n",
    "    plt.grid(True)\n",
    "    plt.legend()\n",
    "\n",
    "    plt.subplot(3, 1, 3)\n",
    "    plt.plot(t, modulated, label='AM Signal')\n",
    "    plt.title('Amplitude Modulated Signal')\n",
    "    plt.xlabel('Time (s)')\n",
    "    plt.ylabel('Amplitude')\n",
    "    plt.grid(True)\n",
    "    plt.legend()\n",
    "\n",
    "    plt.tight_layout()\n",
    "    plt.show()\n",
    "\n",
    "# Interactive widget for AM\n",
    "interact(plot_am, carrier_amp=FloatSlider(value=1.0, min=0.1, max=5.0, step=0.1),\n",
    "                carrier_freq=FloatSlider(value=5.0, min=1.0, max=20.0, step=0.1),\n",
    "                modulating_freq=FloatSlider(value=1.0, min=0.1, max=10.0, step=0.1),\n",
    "                modulating_amp=FloatSlider(value=0.5, min=0.1, max=2.0, step=0.1))\n"
   ]
  },
  {
   "cell_type": "code",
   "execution_count": 6,
   "id": "546385e5",
   "metadata": {},
   "outputs": [
    {
     "data": {
      "application/vnd.jupyter.widget-view+json": {
       "model_id": "a38e50e54d2c4ec4a9f9cc093927ebaa",
       "version_major": 2,
       "version_minor": 0
      },
      "text/plain": [
       "interactive(children=(FloatSlider(value=1.0, description='carrier_amp', max=5.0, min=0.1), FloatSlider(value=5…"
      ]
     },
     "metadata": {},
     "output_type": "display_data"
    },
    {
     "data": {
      "text/plain": [
       "<function __main__.plot_fm(carrier_amp=1.0, carrier_freq=5.0, modulating_freq=1.0, modulating_amp=0.5)>"
      ]
     },
     "execution_count": 6,
     "metadata": {},
     "output_type": "execute_result"
    }
   ],
   "source": [
    "import numpy as np\n",
    "import matplotlib.pyplot as plt\n",
    "from ipywidgets import interact, FloatSlider\n",
    "\n",
    "# Function to create a modulated carrier signal for FM\n",
    "def modulated_signal_fm(carrier_amp, carrier_freq, modulating_freq, modulating_amp, sample_rate=1000, time=1.0):\n",
    "    t = np.linspace(0, time, int(sample_rate * time))\n",
    "    modulating = modulating_amp * np.sin(2 * np.pi * modulating_freq * t)\n",
    "    modulated = carrier_amp * np.sin(2 * np.pi * (carrier_freq + modulating) * t)\n",
    "    return t, modulated, carrier_amp * np.sin(2 * np.pi * carrier_freq * t), modulating\n",
    "\n",
    "# Interactive plot for FM\n",
    "def plot_fm(carrier_amp=1.0, carrier_freq=5.0, modulating_freq=1.0, modulating_amp=0.5):\n",
    "    t, modulated, carrier, modulating = modulated_signal_fm(carrier_amp, carrier_freq, modulating_freq, modulating_amp)\n",
    "\n",
    "    plt.figure(figsize=(12, 8))\n",
    "    plt.subplot(3, 1, 1)\n",
    "    plt.plot(t, carrier, label='Carrier Signal')\n",
    "    plt.title('Carrier Signal')\n",
    "    plt.xlabel('Time (s)')\n",
    "    plt.ylabel('Amplitude')\n",
    "    plt.grid(True)\n",
    "    plt.legend()\n",
    "\n",
    "    plt.subplot(3, 1, 2)\n",
    "    plt.plot(t, modulating, label='Modulating Signal')\n",
    "    plt.title('Modulating Signal')\n",
    "    plt.xlabel('Time (s)')\n",
    "    plt.ylabel('Amplitude')\n",
    "    plt.grid(True)\n",
    "    plt.legend()\n",
    "\n",
    "    plt.subplot(3, 1, 3)\n",
    "    plt.plot(t, modulated, label='FM Signal')\n",
    "    plt.title('Frequency Modulated Signal')\n",
    "    plt.xlabel('Time (s)')\n",
    "    plt.ylabel('Amplitude')\n",
    "    plt.grid(True)\n",
    "    plt.legend()\n",
    "\n",
    "    plt.tight_layout()\n",
    "    plt.show()\n",
    "\n",
    "# Interactive widget for FM\n",
    "interact(plot_fm, carrier_amp=FloatSlider(value=1.0, min=0.1, max=5.0, step=0.1),\n",
    "                carrier_freq=FloatSlider(value=5.0, min=1.0, max=20.0, step=0.1),\n",
    "                modulating_freq=FloatSlider(value=1.0, min=0.1, max=10.0, step=0.1),\n",
    "                modulating_amp=FloatSlider(value=0.5, min=0.1, max=2.0, step=0.1))\n"
   ]
  },
  {
   "cell_type": "code",
   "execution_count": null,
   "id": "3fcfe1ee",
   "metadata": {},
   "outputs": [],
   "source": []
  }
 ],
 "metadata": {
  "kernelspec": {
   "display_name": "Python 3 (ipykernel)",
   "language": "python",
   "name": "python3"
  },
  "language_info": {
   "codemirror_mode": {
    "name": "ipython",
    "version": 3
   },
   "file_extension": ".py",
   "mimetype": "text/x-python",
   "name": "python",
   "nbconvert_exporter": "python",
   "pygments_lexer": "ipython3",
   "version": "3.11.4"
  }
 },
 "nbformat": 4,
 "nbformat_minor": 5
}
