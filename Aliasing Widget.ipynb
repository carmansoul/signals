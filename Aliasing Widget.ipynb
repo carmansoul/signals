{
 "cells": [
  {
   "cell_type": "code",
   "execution_count": 1,
   "id": "64bf630c",
   "metadata": {},
   "outputs": [
    {
     "data": {
      "application/vnd.jupyter.widget-view+json": {
       "model_id": "5fed1c5e8189411f97405bce3873401c",
       "version_major": 2,
       "version_minor": 0
      },
      "text/plain": [
       "interactive(children=(FloatSlider(value=5.0, description='Signal Frequency (Hz)', max=50.0, min=1.0, step=1.0)…"
      ]
     },
     "metadata": {},
     "output_type": "display_data"
    },
    {
     "data": {
      "text/plain": [
       "<function __main__.plot_signal_frequency(signal_freq, sampling_rate)>"
      ]
     },
     "execution_count": 1,
     "metadata": {},
     "output_type": "execute_result"
    }
   ],
   "source": [
    "import numpy as np\n",
    "import matplotlib.pyplot as plt\n",
    "from ipywidgets import interact, FloatSlider\n",
    "from numpy.fft import fft, fftfreq\n",
    "\n",
    "# Function to generate and sample the signal, and plot the frequency spectrum\n",
    "def plot_signal_frequency(signal_freq, sampling_rate):\n",
    "    # Time domain parameters\n",
    "    t_max = 1  # Duration in seconds\n",
    "    t = np.linspace(0, t_max, int(sampling_rate * t_max), endpoint=False)\n",
    "\n",
    "    # Generating a sine wave signal\n",
    "    signal = np.sin(2 * np.pi * signal_freq * t)\n",
    "\n",
    "    # Compute the Fourier Transform and the frequency bins\n",
    "    signal_fft = fft(signal)\n",
    "    freq = fftfreq(t.size, d=1/sampling_rate)\n",
    "\n",
    "    # Plotting\n",
    "    plt.figure(figsize=(12, 6))\n",
    "\n",
    "    # Plotting the magnitude of the frequency components\n",
    "    plt.plot(freq, np.abs(signal_fft))\n",
    "    plt.title(f\"Frequency Spectrum (Signal Frequency: {signal_freq} Hz, Sampling Rate: {sampling_rate} Hz)\")\n",
    "    plt.xlabel(\"Frequency (Hz)\")\n",
    "    plt.ylabel(\"Magnitude\")\n",
    "    plt.xlim(0, max(signal_freq * 2, sampling_rate / 2))  # Limiting x-axis to relevant range\n",
    "    plt.grid(True)\n",
    "    plt.show()\n",
    "\n",
    "# Interactive widget\n",
    "interact(plot_signal_frequency,\n",
    "         signal_freq=FloatSlider(value=5, min=1, max=50, step=1, description='Signal Frequency (Hz)'),\n",
    "         sampling_rate=FloatSlider(value=40, min=10, max=100, step=1, description='Sampling Rate (Hz)'))\n"
   ]
  },
  {
   "cell_type": "code",
   "execution_count": null,
   "id": "2acdc68c",
   "metadata": {},
   "outputs": [],
   "source": []
  }
 ],
 "metadata": {
  "kernelspec": {
   "display_name": "Python 3 (ipykernel)",
   "language": "python",
   "name": "python3"
  },
  "language_info": {
   "codemirror_mode": {
    "name": "ipython",
    "version": 3
   },
   "file_extension": ".py",
   "mimetype": "text/x-python",
   "name": "python",
   "nbconvert_exporter": "python",
   "pygments_lexer": "ipython3",
   "version": "3.11.4"
  }
 },
 "nbformat": 4,
 "nbformat_minor": 5
}
