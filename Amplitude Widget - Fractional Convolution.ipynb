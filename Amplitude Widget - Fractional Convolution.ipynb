{
 "cells": [
  {
   "cell_type": "code",
   "execution_count": 1,
   "id": "e255298f",
   "metadata": {},
   "outputs": [
    {
     "data": {
      "application/vnd.jupyter.widget-view+json": {
       "model_id": "d3a0bbfabe7d4d8894adc2d623ab22ca",
       "version_major": 2,
       "version_minor": 0
      },
      "text/plain": [
       "interactive(children=(FloatSlider(value=1.0, description='n', max=2.0, min=0.01, step=0.01), Output()), _dom_c…"
      ]
     },
     "metadata": {},
     "output_type": "display_data"
    },
    {
     "data": {
      "text/plain": [
       "<function __main__.plot_envelope_with_n(n)>"
      ]
     },
     "execution_count": 1,
     "metadata": {},
     "output_type": "execute_result"
    }
   ],
   "source": [
    "import numpy as np\n",
    "import matplotlib.pyplot as plt\n",
    "from ipywidgets import interact, FloatSlider\n",
    "\n",
    "# Function to plot the envelope multiplied by n*t^(n-1)\n",
    "def plot_envelope_with_n(n):\n",
    "    # Define the range for t\n",
    "    t = np.linspace(0, np.pi/2, 500)\n",
    "\n",
    "    # Define the envelope abs(cos(t))\n",
    "    envelope = np.abs(np.cos(t))\n",
    "\n",
    "    # Calculate n*t^(n-1)\n",
    "    multiplier = n * t**(n - 1)\n",
    "\n",
    "    # Multiply the envelope by the multiplier\n",
    "    result = envelope * multiplier\n",
    "\n",
    "    # Plotting\n",
    "    plt.figure(figsize=(10, 6))\n",
    "    plt.plot(t, envelope, label='Envelope |cos(t)|', linestyle='--')\n",
    "    plt.plot(t, result, label=f'Envelope * {n:.2f} * t^({n:.2f}-1)')\n",
    "    plt.title('Envelope Multiplied by n * t^(n-1)')\n",
    "    plt.xlabel('t')\n",
    "    plt.ylabel('Value')\n",
    "    plt.legend()\n",
    "    plt.ylim(-0.1, max(envelope) + 0.1)\n",
    "    plt.grid(True)\n",
    "    plt.show()\n",
    "\n",
    "# Interactive widget\n",
    "interact(plot_envelope_with_n, n=FloatSlider(min=0.01, max=2, step=0.01, value=1, description=\"n\"))\n"
   ]
  },
  {
   "cell_type": "code",
   "execution_count": null,
   "id": "bfe11bc2",
   "metadata": {},
   "outputs": [],
   "source": []
  }
 ],
 "metadata": {
  "kernelspec": {
   "display_name": "Python 3 (ipykernel)",
   "language": "python",
   "name": "python3"
  },
  "language_info": {
   "codemirror_mode": {
    "name": "ipython",
    "version": 3
   },
   "file_extension": ".py",
   "mimetype": "text/x-python",
   "name": "python",
   "nbconvert_exporter": "python",
   "pygments_lexer": "ipython3",
   "version": "3.11.4"
  }
 },
 "nbformat": 4,
 "nbformat_minor": 5
}
