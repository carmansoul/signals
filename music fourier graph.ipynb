{
 "cells": [
  {
   "cell_type": "code",
   "execution_count": 17,
   "id": "ee311bf4",
   "metadata": {
    "scrolled": true
   },
   "outputs": [
    {
     "ename": "ModuleNotFoundError",
     "evalue": "No module named 'pydub'",
     "output_type": "error",
     "traceback": [
      "\u001b[1;31m---------------------------------------------------------------------------\u001b[0m",
      "\u001b[1;31mModuleNotFoundError\u001b[0m                       Traceback (most recent call last)",
      "Cell \u001b[1;32mIn[17], line 6\u001b[0m\n\u001b[0;32m      4\u001b[0m \u001b[38;5;28;01mfrom\u001b[39;00m \u001b[38;5;21;01mscipy\u001b[39;00m\u001b[38;5;21;01m.\u001b[39;00m\u001b[38;5;21;01mfft\u001b[39;00m \u001b[38;5;28;01mimport\u001b[39;00m fft\n\u001b[0;32m      5\u001b[0m \u001b[38;5;28;01mimport\u001b[39;00m \u001b[38;5;21;01mmatplotlib\u001b[39;00m\u001b[38;5;21;01m.\u001b[39;00m\u001b[38;5;21;01mpyplot\u001b[39;00m \u001b[38;5;28;01mas\u001b[39;00m \u001b[38;5;21;01mplt\u001b[39;00m\n\u001b[1;32m----> 6\u001b[0m \u001b[38;5;28;01mfrom\u001b[39;00m \u001b[38;5;21;01mpydub\u001b[39;00m \u001b[38;5;28;01mimport\u001b[39;00m AudioSegment \u001b[38;5;66;03m###ModuleNotFoundError despite reinstalling package; only use .wav files to debug.\u001b[39;00m\n\u001b[0;32m      8\u001b[0m \u001b[38;5;66;03m# Open the audio file with pydub\u001b[39;00m\n\u001b[0;32m      9\u001b[0m audio_file \u001b[38;5;241m=\u001b[39m AudioSegment\u001b[38;5;241m.\u001b[39mfrom_file(\u001b[38;5;124m\"\u001b[39m\u001b[38;5;124mC:/Users/carma/Documents/Samples/Drumkits/WavSupply - LeauxFi - The 6ixGOD Drumkit (Drum Kit)/Snares + Rims/ADHD Snare.wav\u001b[39m\u001b[38;5;124m\"\u001b[39m)\n",
      "\u001b[1;31mModuleNotFoundError\u001b[0m: No module named 'pydub'"
     ]
    }
   ],
   "source": [
    "#This code creates the graph of Fourier transform of an audio signal. It worked before but now has issues with pydub?\n",
    "\n",
    "import numpy as np\n",
    "from scipy.fft import fft\n",
    "import matplotlib.pyplot as plt\n",
    "from pydub import AudioSegment ###ModuleNotFoundError despite reinstalling package; only use .wav files to debug.\n",
    "\n",
    "# Open the audio file with pydub\n",
    "audio_file = AudioSegment.from_file(\"C:/Users/carma/Documents/Samples/Drumkits/WavSupply - LeauxFi - The 6ixGOD Drumkit (Drum Kit)/Snares + Rims/ADHD Snare.wav\")\n",
    "\n",
    "# Convert the audio file to raw data (bytes)\n",
    "audio_data = audio_file.raw_data\n",
    "\n",
    "# Convert the raw data to a NumPy array\n",
    "audio_data = np.frombuffer(audio_data, dtype=np.int16)\n",
    "\n",
    "# Get the number of frames in the audio file\n",
    "num_frames = len(audio_data)\n",
    "\n",
    "# Compute the Fourier transform of the audio data\n",
    "audio_fft = fft(audio_data)\n",
    "\n",
    "# Compute the Fourier series coefficients\n",
    "audio_coeffs = audio_fft[:num_frames//2+1] / num_frames\n",
    "\n",
    "# Compute the frequencies corresponding to the Fourier series coefficients\n",
    "audio_freqs = np.arange(num_frames//2+1) * audio_file.frame_rate / num_frames\n",
    "\n",
    "# Plot the Fourier transform\n",
    "plt.plot(audio_freqs, np.abs(audio_fft[:num_frames//2+1]))\n",
    "plt.xlabel('Frequency (Hz)')\n",
    "plt.ylabel('Amplitude')\n",
    "plt.show()"
   ]
  },
  {
   "cell_type": "code",
   "execution_count": null,
   "id": "4302f21f",
   "metadata": {},
   "outputs": [],
   "source": []
  },
  {
   "cell_type": "code",
   "execution_count": null,
   "id": "463777df",
   "metadata": {},
   "outputs": [],
   "source": []
  }
 ],
 "metadata": {
  "kernelspec": {
   "display_name": "Python 3 (ipykernel)",
   "language": "python",
   "name": "python3"
  },
  "language_info": {
   "codemirror_mode": {
    "name": "ipython",
    "version": 3
   },
   "file_extension": ".py",
   "mimetype": "text/x-python",
   "name": "python",
   "nbconvert_exporter": "python",
   "pygments_lexer": "ipython3",
   "version": "3.11.4"
  }
 },
 "nbformat": 4,
 "nbformat_minor": 5
}
