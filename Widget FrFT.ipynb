{
 "cells": [
  {
   "cell_type": "code",
   "execution_count": 48,
   "id": "c95b8916",
   "metadata": {},
   "outputs": [],
   "source": [
    "###there seems to be a problem with the FrFT portion\n",
    "\n",
    "import numpy as np\n",
    "import scipy.linalg as la\n",
    "import ipywidgets\n",
    "import matplotlib.pyplot as plt\n",
    "\n",
    "def fractional_fourier_transform(signal, alpha=np.pi/2):\n",
    "    \"\"\"\n",
    "    Apply the fractional Fourier transform to a given signal.\n",
    "\n",
    "    :param signal: The input signal (numpy array).\n",
    "    :param alpha: The fractional Fourier transform parameter (default is pi/2).\n",
    "    :return: The transformed signal.\n",
    "    \"\"\"\n",
    "    N = len(signal)\n",
    "\n",
    "    # Create the transformation matrix\n",
    "    n = np.arange(N)\n",
    "    A = np.exp(-1j * alpha * np.outer(n, n) / N)\n",
    "    A = A * (np.exp(1j * alpha / 2) / np.sqrt(N))\n",
    "\n",
    "    # Apply the transformation matrix to the signal\n",
    "    transformed_signal = np.dot(A, signal)\n",
    "\n",
    "    return transformed_signal\n",
    "\n",
    "def plot_fractional_fourier_transform(signal, transformed_signal, alpha=np.pi/2):\n",
    "    \"\"\"\n",
    "    Plot the original signal and its fractional Fourier transform.\n",
    "\n",
    "    :param signal: The original input signal (numpy array).\n",
    "    :param transformed_signal: The signal after applying the fractional Fourier transform.\n",
    "    :param alpha: The fractional Fourier transform parameter (default is pi/2).\n",
    "    \"\"\"\n",
    "    # Time axis for the original signal\n",
    "    N = len(signal)\n",
    "    t = np.linspace(0, 1, N)\n",
    "\n",
    "    # Create subplots\n",
    "    fig, axs = plt.subplots(2, 1, figsize=(10, 6))\n",
    "\n",
    "    # Original signal\n",
    "    axs[0].plot(t, signal, label='Original Signal')\n",
    "    axs[0].set_title('Original Signal')\n",
    "    axs[0].set_xlabel('Time')\n",
    "    axs[0].set_ylabel('Amplitude')\n",
    "\n",
    "    # Transformed signal\n",
    "    axs[1].plot(t, transformed_signal.real, label='Real part')\n",
    "    axs[1].plot(t, transformed_signal.imag, label='Imaginary part', linestyle='--')\n",
    "    axs[1].set_title(f'Fractional Fourier Transform (alpha = {alpha})')\n",
    "    axs[1].set_xlabel('Time')\n",
    "    axs[1].set_ylabel('Amplitude')\n",
    "\n",
    "    # Show legend\n",
    "    axs[1].legend()\n",
    "\n",
    "    # Show the plot\n",
    "    plt.tight_layout()\n",
    "    plt.show()"
   ]
  },
  {
   "cell_type": "code",
   "execution_count": 49,
   "id": "0874d4f2",
   "metadata": {},
   "outputs": [
    {
     "data": {
      "application/vnd.jupyter.widget-view+json": {
       "model_id": "2402611eb9c34bb69cc922b8f61245e9",
       "version_major": 2,
       "version_minor": 0
      },
      "text/plain": [
       "interactive(children=(FloatSlider(value=3.141592653589793, description='alpha', max=6.283185307179586, step=0.…"
      ]
     },
     "metadata": {},
     "output_type": "display_data"
    },
    {
     "data": {
      "text/plain": [
       "<function __main__.plot_fct(alpha)>"
      ]
     },
     "execution_count": 49,
     "metadata": {},
     "output_type": "execute_result"
    }
   ],
   "source": [
    "def plot_fct(alpha):\n",
    "    # Re-generate the signal inside the function\n",
    "    N = 1000  # Number of sample points\n",
    "    t = np.linspace(0, 1, N)\n",
    "    signal = np.piecewise(t, [t >= 1, t < 1], [lambda t: np.zeros_like(t),\n",
    "                                               lambda t: np.exp(10*-t**2) * np.sin(10 * 2 * np.pi * t)])\n",
    "\n",
    "    # Apply the fractional Fourier transform\n",
    "    transformed_signal = fractional_fourier_transform(signal, alpha)\n",
    "\n",
    "    # Plot the original signal and its fractional Fourier transform\n",
    "    # Here, use the plotting function, not plot_fct itself\n",
    "    \n",
    "    \n",
    "    \n",
    "    plot_fractional_fourier_transform(signal, transformed_signal, alpha)\n",
    "\n",
    "# Set up the widget interaction\n",
    "ipywidgets.interact(plot_fct, alpha=(0, 2*np.pi, np.pi/6))\n"
   ]
  },
  {
   "cell_type": "code",
   "execution_count": null,
   "id": "a63e1000",
   "metadata": {},
   "outputs": [],
   "source": []
  }
 ],
 "metadata": {
  "kernelspec": {
   "display_name": "Python 3 (ipykernel)",
   "language": "python",
   "name": "python3"
  },
  "language_info": {
   "codemirror_mode": {
    "name": "ipython",
    "version": 3
   },
   "file_extension": ".py",
   "mimetype": "text/x-python",
   "name": "python",
   "nbconvert_exporter": "python",
   "pygments_lexer": "ipython3",
   "version": "3.11.4"
  }
 },
 "nbformat": 4,
 "nbformat_minor": 5
}
