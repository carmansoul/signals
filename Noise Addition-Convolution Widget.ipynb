{
 "cells": [
  {
   "cell_type": "code",
   "execution_count": 1,
   "id": "aa6fb0ba",
   "metadata": {
    "scrolled": false
   },
   "outputs": [
    {
     "data": {
      "application/vnd.jupyter.widget-view+json": {
       "model_id": "5ae3eb7ea2aa4d0d9aeec8b35fdacab2",
       "version_major": 2,
       "version_minor": 0
      },
      "text/plain": [
       "interactive(children=(FloatSlider(value=1.0, description='Frequency:', max=10.0, min=0.1), FloatSlider(value=0…"
      ]
     },
     "metadata": {},
     "output_type": "display_data"
    }
   ],
   "source": [
    "import numpy as np\n",
    "import matplotlib.pyplot as plt\n",
    "import ipywidgets as widgets\n",
    "from ipywidgets import interactive\n",
    "\n",
    "np.random.RandomState(42)\n",
    "\n",
    "# Function to simulate Wiener process using Euler-Maruyama method\n",
    "def euler_maruyama(amplitude, dt, size):\n",
    "    # Generate random increments (Gaussian)\n",
    "    dW = np.random.normal(0, np.sqrt(dt), size=size)\n",
    "    # Wiener process is the cumulative sum of these increments\n",
    "    return amplitude * np.cumsum(dW)\n",
    "\n",
    "# Function to generate and plot signals\n",
    "def generate_signals(frequency, noise_amplitude, time_step):\n",
    "    # Time array\n",
    "    t = np.arange(0, 10, time_step)\n",
    "    dt = t[1] - t[0]  # timestep size\n",
    "\n",
    "    # Generate sinusoid\n",
    "    sinusoid = np.sin(2 * np.pi * frequency * t)\n",
    "\n",
    "    # Generate Wiener process using Euler-Maruyama method\n",
    "    wiener_process = euler_maruyama(noise_amplitude, dt, size=t.shape)\n",
    "\n",
    "    # Combine sinusoid with Wiener process\n",
    "    combined_signal = sinusoid + wiener_process\n",
    "\n",
    "    # Convolve sinusoid with Wiener process\n",
    "    convolved_signal = np.convolve(sinusoid, wiener_process, mode='same')\n",
    "    convolved_signal = convolved_signal[:len(t)]  # Truncate to match the time array length\n",
    "\n",
    "    # Plotting\n",
    "    plt.figure(figsize=(12, 6))\n",
    "\n",
    "    plt.subplot(2, 1, 1)\n",
    "    plt.plot(t, combined_signal, label='Sinusoid + Wiener Process')\n",
    "    plt.title('Sinusoid Combined with Wiener Process')\n",
    "    plt.xlabel('Time')\n",
    "    plt.ylabel('Amplitude')\n",
    "    plt.legend()\n",
    "\n",
    "    plt.subplot(2, 1, 2)\n",
    "    plt.plot(t, convolved_signal, label='Convolved Signal', color='orange')\n",
    "    plt.title('Sinusoid Convolved with Wiener Process')\n",
    "    plt.xlabel('Time')\n",
    "    plt.ylabel('Amplitude')\n",
    "    plt.legend()\n",
    "\n",
    "    plt.tight_layout()\n",
    "    plt.show()\n",
    "\n",
    "# Create interactive widgets\n",
    "frequency_slider = widgets.FloatSlider(value=1.0, min=0.1, max=10.0, step=0.1, description='Frequency:')\n",
    "noise_amplitude_slider = widgets.FloatSlider(value=0.1, min=0.01, max=1.0, step=0.01, description='Noise Amplitude:')\n",
    "time_step_slider = widgets.FloatSlider(value=0.01, min=0.001, max=0.1, step=0.001, description='Time Step:')\n",
    "\n",
    "# Display interactive plot\n",
    "interactive_plot = interactive(generate_signals, frequency=frequency_slider, noise_amplitude=noise_amplitude_slider, time_step=time_step_slider)\n",
    "display(interactive_plot)\n"
   ]
  },
  {
   "cell_type": "code",
   "execution_count": 2,
   "id": "3f45bd38",
   "metadata": {
    "scrolled": false
   },
   "outputs": [
    {
     "data": {
      "application/vnd.jupyter.widget-view+json": {
       "model_id": "af1498b70b164cbcb347d4f4fef3cc69",
       "version_major": 2,
       "version_minor": 0
      },
      "text/plain": [
       "interactive(children=(FloatSlider(value=1.0, description='Frequency:', max=10.0, min=0.1), FloatSlider(value=0…"
      ]
     },
     "metadata": {},
     "output_type": "display_data"
    }
   ],
   "source": [
    "import numpy as np\n",
    "from scipy.signal import hilbert\n",
    "import matplotlib.pyplot as plt\n",
    "\n",
    "np.random.RandomState(42)\n",
    "\n",
    "def euler_maruyama(amplitude, dt, size):\n",
    "    # Generate random increments (Gaussian)\n",
    "    dW = np.random.normal(0, np.sqrt(dt), size=size)\n",
    "    # Wiener process is the cumulative sum of these increments\n",
    "    return amplitude * np.cumsum(dW)\n",
    "\n",
    "# Function to generate and plot signals\n",
    "def generate_signals(frequency, noise_amplitude, time_step):\n",
    "    # Time array\n",
    "    t = np.arange(0, 10, time_step)\n",
    "    dt = t[1] - t[0]  # timestep size\n",
    "\n",
    "    # Generate sinusoid\n",
    "    sinusoid = np.sin(2 * np.pi * frequency * t)\n",
    "\n",
    "    # Generate Wiener process using Euler-Maruyama method\n",
    "    wiener_process = euler_maruyama(noise_amplitude, dt, size=t.shape)\n",
    "\n",
    "    # Combine sinusoid with Wiener process\n",
    "    combined_signal = sinusoid + wiener_process\n",
    "\n",
    "    # Apply Hilbert transform to the combined signal\n",
    "    analytical_signal_combined = hilbert(combined_signal)\n",
    "    # Compute amplitude envelope for the combined signal\n",
    "    amplitude_envelope_combined = np.abs(analytical_signal_combined)\n",
    "\n",
    "    # Plotting\n",
    "    plt.figure(figsize=(12, 6))\n",
    "\n",
    "    plt.subplot(2, 1, 1)\n",
    "    plt.plot(t, combined_signal, label='Sinusoid + Wiener Process')\n",
    "    plt.plot(t, amplitude_envelope_combined, label='Amplitude Envelope', linestyle='--')\n",
    "    plt.title('Combined Signal and its Amplitude Envelope')\n",
    "    plt.xlabel('Time')\n",
    "    plt.ylabel('Amplitude')\n",
    "    plt.legend()\n",
    "\n",
    "    plt.subplot(2, 1, 2)\n",
    "    plt.plot(t, wiener_process, label='Wiener Process')\n",
    "    plt.title('Wiener Process')\n",
    "    plt.xlabel('Time')\n",
    "    plt.ylabel('Amplitude')\n",
    "    plt.legend()\n",
    "\n",
    "    plt.tight_layout()\n",
    "    plt.show()\n",
    "\n",
    "\n",
    "frequency_slider = widgets.FloatSlider(value=1.0, min=0.1, max=10.0, step=0.1, description='Frequency:')\n",
    "noise_amplitude_slider = widgets.FloatSlider(value=0.1, min=0.01, max=10.0, step=0.01, description='Noise Amplitude:')\n",
    "time_step_slider = widgets.FloatSlider(value=0.01, min=0.001, max=0.1, step=0.001, description='Time Step:')\n",
    "\n",
    "# Display interactive plot\n",
    "interactive_plot = interactive(generate_signals, frequency=frequency_slider, noise_amplitude=noise_amplitude_slider, time_step=time_step_slider)\n",
    "display(interactive_plot)"
   ]
  },
  {
   "cell_type": "code",
   "execution_count": 26,
   "id": "45711d9f",
   "metadata": {
    "scrolled": false
   },
   "outputs": [
    {
     "data": {
      "application/vnd.jupyter.widget-view+json": {
       "model_id": "35d73fd40f8f484aab0fd5f128e92a53",
       "version_major": 2,
       "version_minor": 0
      },
      "text/plain": [
       "interactive(children=(FloatSlider(value=1.0, description='Frequency:', max=10.0, min=0.1), FloatSlider(value=0…"
      ]
     },
     "metadata": {},
     "output_type": "display_data"
    }
   ],
   "source": [
    "import numpy as np\n",
    "from scipy.signal import hilbert, fftconvolve\n",
    "import matplotlib.pyplot as plt\n",
    "\n",
    "np.random.RandomState(42)\n",
    "\n",
    "def euler_maruyama(amplitude, dt, size):\n",
    "    dW = np.random.normal(0, np.sqrt(dt), size=size)\n",
    "    return amplitude * np.cumsum(dW)\n",
    "\n",
    "def generate_signals(frequency, noise_amplitude, time_step):\n",
    "    t = np.arange(0, 10, time_step)\n",
    "    dt = t[1] - t[0]\n",
    "\n",
    "    sinusoid = np.sin(2 * np.pi * frequency * t)\n",
    "    wiener_process = euler_maruyama(noise_amplitude, dt, size=t.shape)\n",
    "\n",
    "    # Convolve sinusoid with Wiener process using fftconvolve\n",
    "    convolved_signal = fftconvolve(sinusoid, wiener_process, mode='same')\n",
    "\n",
    "    # Apply Hilbert transform to the convolved signal\n",
    "    analytical_signal_convolved = hilbert(convolved_signal)\n",
    "    amplitude_envelope_convolved = np.abs(analytical_signal_convolved)\n",
    "\n",
    "    plt.figure(figsize=(12, 6))\n",
    "\n",
    "    plt.subplot(2, 1, 1)\n",
    "    plt.plot(t, convolved_signal, label='Convolved Signal')\n",
    "    plt.plot(t, amplitude_envelope_convolved, label='Amplitude Envelope', linestyle='--')\n",
    "    plt.title('Convolved Signal and its Amplitude Envelope')\n",
    "    plt.xlabel('Time')\n",
    "    plt.ylabel('Amplitude')\n",
    "    plt.legend()\n",
    "\n",
    "    plt.subplot(2, 1, 2)\n",
    "    plt.plot(t, wiener_process, label='Wiener Process')\n",
    "    plt.title('Wiener Process')\n",
    "    plt.xlabel('Time')\n",
    "    plt.ylabel('Amplitude')\n",
    "    plt.legend()\n",
    "\n",
    "    plt.tight_layout()\n",
    "    plt.show()\n",
    "    \n",
    "frequency_slider = widgets.FloatSlider(value=1.0, min=0.1, max=10.0, step=0.1, description='Frequency:')\n",
    "noise_amplitude_slider = widgets.FloatSlider(value=0.1, min=0.01, max=10.0, step=0.01, description='Noise Amplitude:')\n",
    "time_step_slider = widgets.FloatSlider(value=0.01, min=0.001, max=0.1, step=0.001, description='Time Step:')\n",
    "\n",
    "# Display interactive plot\n",
    "interactive_plot = interactive(generate_signals, frequency=frequency_slider, noise_amplitude=noise_amplitude_slider, time_step=time_step_slider)\n",
    "display(interactive_plot)"
   ]
  },
  {
   "cell_type": "markdown",
   "id": "256d0e14",
   "metadata": {},
   "source": [
    "It seems that for convolutional noise, a lot of noise cancels out. The Huygen-Fresnel principle can be credited here. It would be interesting to see how the generator of the noise effects this. In the Fokker-Planck equation, for instance, we typically use the Gaussian kernel to produce Gaussian probabilities. When we change this, how does noise propagate?"
   ]
  },
  {
   "cell_type": "markdown",
   "id": "578a22d4",
   "metadata": {},
   "source": [
    "What's interesting to see here is that convolutional noise seems to be pseudo-linear, in that the effects of time-step and noise amplitude are similar. The theory at work is that by the differential property of convolution, we can derive the following Wiener deconvolution: We have y_1(t)=(x*h)(t)+n(t) and y_2(t)=(x*h*n)(t), where x(t) is some signal. If I had y_1*g giving an estimate of x, one can suppose n(t) is stationary, which gives a minimization problem on the MSE(x_true,x_hat), so that in the Fourier domain we have X_hat = Y_1 G. G is then 1/H 1/(1+1/(|H|^2 SNR). This is Wiener deconvolution.\n",
    "\n",
    "We can do something similar to the convolved noise. First, we note that in the Fourier domain we have Y_2 = X H N. Taking the logarithm gives the equation ln Y = ln (X H) + ln N. Now we convert back to the time domain and we recover:\n",
    "F(ln Y)=1/(2πit)F(Y′/Y)(t)=1/(2πit)F((XH)′/(XH))(t)+1/(2πit)F(N′/N)(t)\n",
    "or the better:\n",
    "F(Y′/Y)(t)=F((XH)′/(XH))(t)+F(N′/N)(t) when t=/=1.\n",
    "No we go back again to the frequency domain to recover:\n",
    "Y'/Y = (XH)'/XH + N'/N = X'/X + H'/H + N'/N.\n",
    "\n",
    "\n",
    "\n",
    "Keep in mind that the Wiener filter in the time domain takes\n",
    "H(f) = S_{x,x}(f)/(S_{x,x}(f)+S_{n,n}(f)) = SNR/(1+SNR)"
   ]
  }
 ],
 "metadata": {
  "kernelspec": {
   "display_name": "Python 3 (ipykernel)",
   "language": "python",
   "name": "python3"
  },
  "language_info": {
   "codemirror_mode": {
    "name": "ipython",
    "version": 3
   },
   "file_extension": ".py",
   "mimetype": "text/x-python",
   "name": "python",
   "nbconvert_exporter": "python",
   "pygments_lexer": "ipython3",
   "version": "3.11.4"
  }
 },
 "nbformat": 4,
 "nbformat_minor": 5
}
